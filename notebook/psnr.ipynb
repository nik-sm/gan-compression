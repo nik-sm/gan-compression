{
 "nbformat": 4,
 "nbformat_minor": 2,
 "metadata": {
  "language_info": {
   "name": "python",
   "codemirror_mode": {
    "name": "ipython",
    "version": 3
   },
   "version": "3.6.9-final"
  },
  "orig_nbformat": 2,
  "file_extension": ".py",
  "mimetype": "text/x-python",
  "name": "python",
  "npconvert_exporter": "python",
  "pygments_lexer": "ipython3",
  "version": 3,
  "kernelspec": {
   "name": "python36964bitvenvvenv80c0df80fb934def886e4a7027c206ff",
   "display_name": "Python 3.6.9 64-bit ('venv': venv)"
  }
 },
 "cells": [
  {
   "cell_type": "code",
   "execution_count": 52,
   "metadata": {},
   "outputs": [],
   "source": [
    "import tensorflow as tf\n",
    "import torchvision.transforms.functional as TF\n",
    "import torch.nn.functional as F\n",
    "import torch"
   ]
  },
  {
   "cell_type": "code",
   "execution_count": 59,
   "metadata": {},
   "outputs": [],
   "source": [
    "def psnr1(img1, img2):\n",
    "    mse = F.mse_loss(img1, img2)\n",
    "    if mse == 0:\n",
    "        raise ValueError(\"how do we handle a perfect reconstruction?\")\n",
    "    pixel_max = torch.tensor(1.0)\n",
    "    return 20 * torch.log10(pixel_max) - 10 * torch.log10(mse)"
   ]
  },
  {
   "cell_type": "code",
   "execution_count": 60,
   "metadata": {},
   "outputs": [],
   "source": [
    "def psnr2(img1, img2):\n",
    "    mse = F.mse_loss(img1, img2)\n",
    "    if mse == 0:\n",
    "        raise ValueError(\"how do we handle a perfect reconstruction?\")\n",
    "    pixel_max = torch.tensor(1.0)\n",
    "    return 20 * torch.log10(pixel_max / torch.sqrt(mse))"
   ]
  },
  {
   "cell_type": "code",
   "execution_count": 61,
   "metadata": {},
   "outputs": [
    {
     "output_type": "stream",
     "name": "stdout",
     "text": "/home/john/projects/cs7180-project/dataset/celeba/img_align_celeba/202598.jpg\n"
    }
   ],
   "source": [
    "im1_fp = \"/home/john/projects/cs7180-project/dataset/celeba/img_align_celeba/202598.jpg\"\n",
    "im2_fp = \"/home/john/projects/cs7180-project/dataset/celeba/img_align_celeba/202599.jpg\"\n",
    "print(im1_fp)"
   ]
  },
  {
   "cell_type": "code",
   "execution_count": 62,
   "metadata": {},
   "outputs": [
    {
     "output_type": "stream",
     "name": "stdout",
     "text": "tf.Tensor(7.1088357, shape=(), dtype=float32)\n"
    }
   ],
   "source": [
    "im1 = tf.image.decode_jpeg(tf.io.read_file(im1_fp))\n",
    "im2 = tf.image.decode_jpeg(tf.io.read_file(im2_fp))\n",
    "psnr_tf = tf.image.psnr(im1, im2, max_val=255)\n",
    "print(psnr_tf)"
   ]
  },
  {
   "cell_type": "code",
   "execution_count": 63,
   "metadata": {},
   "outputs": [],
   "source": [
    "from PIL import Image\n",
    ""
   ]
  },
  {
   "cell_type": "code",
   "execution_count": 64,
   "metadata": {},
   "outputs": [
    {
     "output_type": "stream",
     "name": "stdout",
     "text": "tensor(7.1134)\n"
    }
   ],
   "source": [
    "im11 = TF.to_tensor(Image.open(im1_fp))\n",
    "im22 = TF.to_tensor(Image.open(im2_fp))\n",
    "print(psnr1(im11, im22))"
   ]
  },
  {
   "cell_type": "code",
   "execution_count": 65,
   "metadata": {},
   "outputs": [
    {
     "output_type": "stream",
     "name": "stdout",
     "text": "tensor(7.1134)\n"
    }
   ],
   "source": [
    "print(psnr2(im11, im22))"
   ]
  },
  {
   "cell_type": "code",
   "execution_count": null,
   "metadata": {},
   "outputs": [],
   "source": []
  }
 ]
}